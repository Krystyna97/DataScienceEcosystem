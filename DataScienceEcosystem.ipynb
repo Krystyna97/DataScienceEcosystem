{
 "cells": [
  {
   "cell_type": "markdown",
   "id": "09943a3d-0c97-4844-82d4-7bc0eca55713",
   "metadata": {},
   "source": [
    "# Data Science Tools and Ecosystem"
   ]
  },
  {
   "cell_type": "markdown",
   "id": "59ba90fe-7173-4f10-a900-4ea94dfd0b56",
   "metadata": {},
   "source": [
    "## Introduction\n",
    "In this notebook, Data Science Tools and Ecosystem are summarized."
   ]
  },
  {
   "cell_type": "markdown",
   "id": "b629bbc4-8bd6-4c9f-8cff-2b6ab63301b9",
   "metadata": {},
   "source": [
    "## Data Science Languages\n",
    "Some of the popular languages that Data Scientists use are:\n",
    "1. Python\n",
    "2. R\n",
    "3. SQL"
   ]
  },
  {
   "cell_type": "markdown",
   "id": "2714be59-adb7-498a-ba43-cbffdaebd21c",
   "metadata": {},
   "source": [
    "## Data Science Libraries\n",
    "Some of the commonly used libraries used by Data Scientists include:\n",
    "1. NumPy\n",
    "2. Pandas\n",
    "3. Scikit-learn\n",
    "4. TensorFlow"
   ]
  },
  {
   "cell_type": "markdown",
   "id": "4e3beb1f-1ac6-423c-8069-af10931160ee",
   "metadata": {},
   "source": [
    "## Data Science Tools\n",
    "| Tool         | Description                       |\n",
    "|--------------|-----------------------------------|\n",
    "| Jupyter      | Interactive computing environment |\n",
    "| RStudio      | Integrated development environment for R |\n",
    "| Apache Spark | Unified analytics engine          |\n"
   ]
  },
  {
   "cell_type": "markdown",
   "id": "da110cb6-4b24-4665-bfcb-c6a34b7c3116",
   "metadata": {},
   "source": [
    "### Arithmetic Expression Examples\n",
    "Below are a few examples of evaluating arithmetic expressions in Python."
   ]
  },
  {
   "cell_type": "code",
   "execution_count": 6,
   "id": "b78a83e3-a5d4-48ea-a974-d4dd7f66b02e",
   "metadata": {},
   "outputs": [
    {
     "data": {
      "text/plain": [
       "17"
      ]
     },
     "execution_count": 6,
     "metadata": {},
     "output_type": "execute_result"
    }
   ],
   "source": [
    "# This a simple arithmetic expression to mutiply then add integers\n",
    "(3 * 4) + 5"
   ]
  },
  {
   "cell_type": "code",
   "execution_count": 7,
   "id": "7e5f4168-a826-4494-aa7d-5dfe08fd89a7",
   "metadata": {},
   "outputs": [
    {
     "data": {
      "text/plain": [
       "3.3333333333333335"
      ]
     },
     "execution_count": 7,
     "metadata": {},
     "output_type": "execute_result"
    }
   ],
   "source": [
    "# This will convert 200 minutes to hours by diving by 60\n",
    "200 / 60"
   ]
  },
  {
   "cell_type": "markdown",
   "id": "bba906bd-7364-4ada-9be7-65c08a83d22f",
   "metadata": {},
   "source": [
    "## Objectives\n",
    "- Learn basic Markdown syntax.\n",
    "- Understand how to create and use code cells.\n",
    "- Familiarize with Jupyter notebook interface."
   ]
  },
  {
   "cell_type": "markdown",
   "id": "aee22cb0-321a-43bd-ae04-aa0984557425",
   "metadata": {},
   "source": [
    "## Author\n",
    "Krystyna"
   ]
  }
 ],
 "metadata": {
  "kernelspec": {
   "display_name": "Python 3 (ipykernel)",
   "language": "python",
   "name": "python3"
  },
  "language_info": {
   "codemirror_mode": {
    "name": "ipython",
    "version": 3
   },
   "file_extension": ".py",
   "mimetype": "text/x-python",
   "name": "python",
   "nbconvert_exporter": "python",
   "pygments_lexer": "ipython3",
   "version": "3.11.9"
  }
 },
 "nbformat": 4,
 "nbformat_minor": 5
}
